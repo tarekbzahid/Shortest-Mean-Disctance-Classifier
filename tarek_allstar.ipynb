{
 "cells": [
  {
   "cell_type": "markdown",
   "metadata": {},
   "source": [
    "# ELE 435-535 Computational HW 1"
   ]
  },
  {
   "cell_type": "markdown",
   "metadata": {},
   "source": [
    "### Due: 9/24/2018 11:59 PM"
   ]
  },
  {
   "cell_type": "markdown",
   "metadata": {},
   "source": [
    "### Importing required Python packages"
   ]
  },
  {
   "cell_type": "code",
   "execution_count": 1,
   "metadata": {},
   "outputs": [],
   "source": [
    "# Import additional packages if needed.\n",
    "import numpy as np\n",
    "import matplotlib.pyplot as plt\n",
    "import sklearn\n",
    "\n",
    "%matplotlib inline\n"
   ]
  },
  {
   "cell_type": "markdown",
   "metadata": {},
   "source": [
    "### Part 1: Getting started with Numpy "
   ]
  },
  {
   "cell_type": "markdown",
   "metadata": {},
   "source": [
    "1) Create a 5 x 5 array (A) with random values sampled from Gaussian distribution with zero mean and unit variance. Then print A. Suggestion: numpy has a built-in command for generating random arrays."
   ]
  },
  {
   "cell_type": "code",
   "execution_count": 2,
   "metadata": {},
   "outputs": [
    {
     "data": {
      "text/plain": [
       "array([[ 0.81820371, -1.33905963, -2.26206748, -1.1503282 , -0.00439756],\n",
       "       [ 0.48207196, -0.37782358,  0.85670357, -1.27209514,  0.98958675],\n",
       "       [-1.07286476,  1.05620842, -0.40289844, -0.92586252,  1.67974676],\n",
       "       [ 0.16569871, -0.78948315, -0.50098783, -0.88518688, -0.25557564],\n",
       "       [ 1.05943328, -0.85375566, -0.11648877,  0.35765044,  0.38671   ]])"
      ]
     },
     "execution_count": 2,
     "metadata": {},
     "output_type": "execute_result"
    }
   ],
   "source": [
    "A = np.random.standard_normal(25)\n",
    "A=np.reshape(A,(5,5))\n",
    "A"
   ]
  },
  {
   "cell_type": "markdown",
   "metadata": {},
   "source": [
    "2) Set the element in the $2^{nd}$ row and $3^{rd}$ column of A to be 1 and print the result. Suggestion: check out how to index the elements of a numpy array."
   ]
  },
  {
   "cell_type": "code",
   "execution_count": 3,
   "metadata": {},
   "outputs": [
    {
     "name": "stdout",
     "output_type": "stream",
     "text": [
      "[[ 0.81820371 -1.33905963 -2.26206748 -1.1503282  -0.00439756]\n",
      " [ 0.48207196 -0.37782358  1.         -1.27209514  0.98958675]\n",
      " [-1.07286476  1.05620842 -0.40289844 -0.92586252  1.67974676]\n",
      " [ 0.16569871 -0.78948315 -0.50098783 -0.88518688 -0.25557564]\n",
      " [ 1.05943328 -0.85375566 -0.11648877  0.35765044  0.38671   ]]\n"
     ]
    }
   ],
   "source": [
    "A[1,2]=1\n",
    "print(A)\n"
   ]
  },
  {
   "cell_type": "markdown",
   "metadata": {},
   "source": [
    "3) Create a 5 x 5 identity array (B) and print it. Suggestion: numpy has a built in command for generating identity matrices."
   ]
  },
  {
   "cell_type": "code",
   "execution_count": 4,
   "metadata": {},
   "outputs": [
    {
     "data": {
      "text/plain": [
       "array([[1., 0., 0., 0., 0.],\n",
       "       [0., 1., 0., 0., 0.],\n",
       "       [0., 0., 1., 0., 0.],\n",
       "       [0., 0., 0., 1., 0.],\n",
       "       [0., 0., 0., 0., 1.]])"
      ]
     },
     "execution_count": 4,
     "metadata": {},
     "output_type": "execute_result"
    }
   ],
   "source": [
    "B=np.identity(5)\n",
    "B"
   ]
  },
  {
   "cell_type": "raw",
   "metadata": {},
   "source": [
    "4) Set the values below the diagonal of B to be 1,2,3,4. Then, print the result. Suggestion: you can use a for loop."
   ]
  },
  {
   "cell_type": "code",
   "execution_count": 5,
   "metadata": {},
   "outputs": [
    {
     "data": {
      "text/plain": [
       "array([[1., 0., 0., 0., 0.],\n",
       "       [1., 1., 0., 0., 0.],\n",
       "       [0., 2., 1., 0., 0.],\n",
       "       [0., 0., 3., 1., 0.],\n",
       "       [0., 0., 0., 4., 1.]])"
      ]
     },
     "execution_count": 5,
     "metadata": {},
     "output_type": "execute_result"
    }
   ],
   "source": [
    "r=0\n",
    "c=-1\n",
    "for i in range(4):\n",
    "    r=r+1\n",
    "    c=c+1\n",
    "    B[r,c]=(i+1)\n",
    "B"
   ]
  },
  {
   "cell_type": "markdown",
   "metadata": {},
   "source": [
    "5) Multiply A and B (matrix multiplication, not point-wise multiplication) to create C (note that A and B are 2D arrays, not matrices). Suggestion: numpy hasd a built-in command for matrix multiplication."
   ]
  },
  {
   "cell_type": "code",
   "execution_count": 6,
   "metadata": {},
   "outputs": [
    {
     "data": {
      "text/plain": [
       "array([[-5.20855919e-01, -5.86319458e+00, -5.71305208e+00,\n",
       "        -1.16791845e+00, -4.39756101e-03],\n",
       "       [ 1.04248386e-01,  1.62217642e+00, -2.81628542e+00,\n",
       "         2.68625185e+00,  9.89586747e-01],\n",
       "       [-1.66563340e-02,  2.50411544e-01, -3.18048600e+00,\n",
       "         5.79312450e+00,  1.67974676e+00],\n",
       "       [-6.23784433e-01, -1.79145880e+00, -3.15654846e+00,\n",
       "        -1.90748943e+00, -2.55575637e-01],\n",
       "       [ 2.05677616e-01, -1.08673320e+00,  9.56462550e-01,\n",
       "         1.90449044e+00,  3.86710001e-01]])"
      ]
     },
     "execution_count": 6,
     "metadata": {},
     "output_type": "execute_result"
    }
   ],
   "source": [
    "C=np.matmul(A,B)\n",
    "C"
   ]
  },
  {
   "cell_type": "markdown",
   "metadata": {},
   "source": [
    "6) Create a new array D according to the formula below:\n",
    "\\begin{equation}\n",
    "D = \\sum_{i=1}^5 A_i*B_i \\hspace{10mm} (A_i: i^{th} \\hspace{3mm} column \\hspace{3mm} of \\hspace{3mm} A, \\hspace{3mm} B_i: i^{th} \\hspace{3mm} row \\hspace{3mm} of \\hspace{3mm} B)   \\\\\n",
    "\\end{equation}"
   ]
  },
  {
   "cell_type": "code",
   "execution_count": 7,
   "metadata": {},
   "outputs": [],
   "source": [
    "D=0\n",
    "i=0\n",
    "for i in range(5):\n",
    "    a=A[:,i]\n",
    "    b=B[i,:]\n",
    "    a=np.reshape(a,(5,1))\n",
    "    b=np.reshape(b,(1,5))\n",
    "    sumx=np.matmul(a,b)\n",
    "    D=D+sumx\n",
    "    "
   ]
  },
  {
   "cell_type": "markdown",
   "metadata": {},
   "source": [
    "7) Verify that C and D are equal. Suggestion: a==b checks equality."
   ]
  },
  {
   "cell_type": "code",
   "execution_count": 8,
   "metadata": {},
   "outputs": [
    {
     "data": {
      "text/plain": [
       "array([[ True,  True,  True,  True,  True],\n",
       "       [ True,  True,  True,  True,  True],\n",
       "       [ True,  True,  True,  True,  True],\n",
       "       [ True,  True,  True,  True,  True],\n",
       "       [ True,  True,  True,  True,  True]])"
      ]
     },
     "execution_count": 8,
     "metadata": {},
     "output_type": "execute_result"
    }
   ],
   "source": [
    "C==D\n",
    "\n"
   ]
  },
  {
   "cell_type": "markdown",
   "metadata": {},
   "source": [
    "### Part 2: Implementation of nearest class mean classifier"
   ]
  },
  {
   "cell_type": "markdown",
   "metadata": {},
   "source": [
    "In this part, you will implement nearest class mean classifier using the MNIST dataset for handwritten digits. These are 28 x 28  2D grayscale images of hand written digits. When you load the given file MNISTcwtrain1000.npy, you will get a 784 x 10000 numpy array, which you are to use as the training samples and another 784 x 1000 array (from MNISTcwtest100.npy) which is to be used as test samples. You can find more information on http://yann.lecun.com/exdb/mnist/.\n",
    "\n",
    "Each column in the training and test arrays are 784-pixel (784 = 28 * 28) column-wise vectorized images of handwritten digits (digits 0~9). For the training array, the first 1000 columns are column-wise vectorized images of the digit 0, the next 1000 columns are images of digit 1, and so on up to the last 1000 columns which are images of digit 9. Similarly, for the test array, the first 100 columns are vectorized images of digit 0, the next 100 columns correspond to digit 1, etc."
   ]
  },
  {
   "cell_type": "markdown",
   "metadata": {},
   "source": [
    "1) Load the MNISTcwtrain1000.npy (training examples) and MNISTcwtest100.npy (test examples). Cast the resulting arrays to 'uint8 (unsigned integers of 8-bits)' format."
   ]
  },
  {
   "cell_type": "code",
   "execution_count": 9,
   "metadata": {},
   "outputs": [],
   "source": [
    "train=np.load('MNISTcwtrain1000.npy')\n",
    "test=np.load('MNISTcwtest100.npy')\n",
    "train=train.astype('uint8')\n",
    "test=test.astype('uint8')\n"
   ]
  },
  {
   "cell_type": "markdown",
   "metadata": {},
   "source": [
    "2) Print the dimensions of training data and test data."
   ]
  },
  {
   "cell_type": "code",
   "execution_count": 10,
   "metadata": {},
   "outputs": [
    {
     "name": "stdout",
     "output_type": "stream",
     "text": [
      "(784, 10000)\n",
      "(784, 1000)\n"
     ]
    }
   ],
   "source": [
    "print(train.shape)\n",
    "print(test.shape)"
   ]
  },
  {
   "cell_type": "markdown",
   "metadata": {},
   "source": [
    "3) Compute the mean vector of each digit of training examples (mean of the first 1000 columns of training examples corresponds to digit 0, mean of the next 1000 columns corresponds to digit 1, etc.)"
   ]
  },
  {
   "cell_type": "code",
   "execution_count": 11,
   "metadata": {},
   "outputs": [],
   "source": [
    "sumx_0=train[:,0:1000].sum(axis=1)/1000\n",
    "sumx_1=train[:,1000:2000].sum(axis=1)/1000\n",
    "sumx_2=train[:,2000:3000].sum(axis=1)/1000\n",
    "sumx_3=train[:,3000:4000].sum(axis=1)/1000\n",
    "sumx_4=train[:,4000:5000].sum(axis=1)/1000\n",
    "sumx_5=train[:,5000:6000].sum(axis=1)/1000\n",
    "sumx_6=train[:,6000:7000].sum(axis=1)/1000\n",
    "sumx_7=train[:,7000:8000].sum(axis=1)/1000\n",
    "sumx_8=train[:,8000:9000].sum(axis=1)/1000\n",
    "sumx_9=train[:,9000:10000].sum(axis=1)/1000\n"
   ]
  },
  {
   "cell_type": "markdown",
   "metadata": {},
   "source": [
    "4) Using the function below, convert the mean-vector of each digit (computed from part (3)) into a 28 x 28, 2D-array and plot the corresponding two dimensional images (using 'imshow').  "
   ]
  },
  {
   "cell_type": "code",
   "execution_count": 12,
   "metadata": {},
   "outputs": [],
   "source": [
    "# Function that converts a 1D vectorized image into a (nr x nc) 2D array\n",
    "def unpackcw(x,nr,nc):\n",
    "    A = x.reshape(nc,nr)\n",
    "    return A.T\n"
   ]
  },
  {
   "cell_type": "code",
   "execution_count": 13,
   "metadata": {},
   "outputs": [
    {
     "data": {
      "text/plain": [
       "<matplotlib.image.AxesImage at 0xc22cac1da0>"
      ]
     },
     "execution_count": 13,
     "metadata": {},
     "output_type": "execute_result"
    },
    {
     "data": {
      "image/png": "[encoded data removed]",
      "text/plain": [
       "<Figure size 432x288 with 10 Axes>"
      ]
     },
     "metadata": {},
     "output_type": "display_data"
    }
   ],
   "source": [
    "class0=unpackcw(sumx_0,28,28)\n",
    "plt.subplot(4,4,1)\n",
    "plt.imshow(class0)\n",
    "\n",
    "class1=unpackcw(sumx_1,28,28)\n",
    "plt.subplot(4,4,2)\n",
    "plt.imshow(class1)\n",
    "\n",
    "class2=unpackcw(sumx_2,28,28)\n",
    "plt.subplot(4,4,3)\n",
    "plt.imshow(class2)\n",
    "\n",
    "class3=unpackcw(sumx_3,28,28)\n",
    "plt.subplot(4,4,4)\n",
    "plt.imshow(class3)\n",
    "\n",
    "class4=unpackcw(sumx_4,28,28)\n",
    "plt.subplot(4,4,5)\n",
    "plt.imshow(class4)\n",
    "\n",
    "class5=unpackcw(sumx_5,28,28)\n",
    "plt.subplot(4,4,6)\n",
    "plt.imshow(class5)\n",
    "\n",
    "class6=unpackcw(sumx_6,28,28)\n",
    "plt.subplot(4,4,7)\n",
    "plt.imshow(class6)\n",
    "\n",
    "class7=unpackcw(sumx_7,28,28)\n",
    "plt.subplot(4,4,8)\n",
    "plt.imshow(class7)\n",
    "\n",
    "class8=unpackcw(sumx_8,28,28)\n",
    "plt.subplot(4,4,9)\n",
    "plt.imshow(class8)\n",
    "\n",
    "class9=unpackcw(sumx_9,28,28)\n",
    "plt.subplot(4,4,10)\n",
    "plt.imshow(class9)"
   ]
  },
  {
   "cell_type": "markdown",
   "metadata": {},
   "source": [
    "5) Using vector-means from part (3), implement the nearest class mean classifier. What are the training and test accuracies?"
   ]
  },
  {
   "cell_type": "code",
   "execution_count": 14,
   "metadata": {},
   "outputs": [],
   "source": [
    "def calcdist(findclass,trueclass):\n",
    "    dist=trueclass-findclass\n",
    "    dist=np.square(dist).sum(axis=0)\n",
    "    dist=np.sqrt(dist)\n",
    "    return dist\n",
    "\n",
    "\n"
   ]
  },
  {
   "cell_type": "code",
   "execution_count": null,
   "metadata": {},
   "outputs": [],
   "source": []
  },
  {
   "cell_type": "code",
   "execution_count": 15,
   "metadata": {},
   "outputs": [
    {
     "name": "stdout",
     "output_type": "stream",
     "text": [
      "76.7\n"
     ]
    }
   ],
   "source": [
    "#for class0,q=0,N=0\n",
    "#for class1,q=100,N=1\n",
    "#for class2,q=200,N=2\n",
    "\n",
    "testacc=0\n",
    "\n",
    "for l in range(10):\n",
    "    if l==0:\n",
    "        q=0\n",
    "        N=0\n",
    "    elif l==1:\n",
    "        q=100\n",
    "        N=1\n",
    "    elif l==2:\n",
    "        q=200\n",
    "        N=2\n",
    "    elif l==3:\n",
    "        q=300\n",
    "        N=3\n",
    "    elif l==4:\n",
    "        q=400\n",
    "        N=4\n",
    "    elif l==5:\n",
    "        q=500\n",
    "        N=5\n",
    "    elif l==6:\n",
    "        q=600\n",
    "        N=6\n",
    "    elif l==7:\n",
    "        q=700\n",
    "        N=7\n",
    "    elif l==8:\n",
    "        q=800\n",
    "        N=8\n",
    "    elif l==9:\n",
    "        q=900\n",
    "        N=9   \n",
    "    \n",
    " \n",
    "    accu1=0\n",
    "    k=0\n",
    "    d0=0\n",
    "    d1=0\n",
    "    d2=0\n",
    "    d3=0\n",
    "    d4=0\n",
    "    d5=0\n",
    "    d6=0\n",
    "    d7=0\n",
    "    d8=0\n",
    "    d9=0\n",
    "\n",
    "\n",
    "    for k in range (100):\n",
    "\n",
    "        findclass=test[:,k+q:k+1+q]\n",
    "    \n",
    "        sumx_0=np.reshape(sumx_0,(784,1))\n",
    "        sumx_1=np.reshape(sumx_1,(784,1))\n",
    "        sumx_2=np.reshape(sumx_2,(784,1))\n",
    "        sumx_3=np.reshape(sumx_3,(784,1))\n",
    "        sumx_4=np.reshape(sumx_4,(784,1))\n",
    "        sumx_5=np.reshape(sumx_5,(784,1))\n",
    "        sumx_6=np.reshape(sumx_6,(784,1))\n",
    "        sumx_7=np.reshape(sumx_7,(784,1))\n",
    "        sumx_8=np.reshape(sumx_8,(784,1))\n",
    "        sumx_9=np.reshape(sumx_9,(784,1))\n",
    "\n",
    "        d0=calcdist(findclass,sumx_0)\n",
    "        d1=calcdist(findclass,sumx_1)\n",
    "        d2=calcdist(findclass,sumx_2)\n",
    "        d3=calcdist(findclass,sumx_3)\n",
    "        d4=calcdist(findclass,sumx_4)\n",
    "        d5=calcdist(findclass,sumx_5)\n",
    "        d6=calcdist(findclass,sumx_6)\n",
    "        d7=calcdist(findclass,sumx_7)\n",
    "        d8=calcdist(findclass,sumx_8)\n",
    "        d9=calcdist(findclass,sumx_9)\n",
    "\n",
    "        d=(d0,d1,d2,d3,d4,d5,d6,d7,d8,d9)\n",
    "        X = d.index(min(d))\n",
    "  \n",
    "    \n",
    "        if X==N:\n",
    "            accu1=accu1+1\n",
    "\n",
    "    testacc=testacc+accu1\n",
    "    \n",
    "\n",
    "    \n",
    "print(testacc/10)\n",
    "    \n"
   ]
  },
  {
   "cell_type": "code",
   "execution_count": null,
   "metadata": {},
   "outputs": [],
   "source": []
  },
  {
   "cell_type": "code",
   "execution_count": null,
   "metadata": {},
   "outputs": [],
   "source": []
  },
  {
   "cell_type": "code",
   "execution_count": 19,
   "metadata": {},
   "outputs": [
    {
     "name": "stdout",
     "output_type": "stream",
     "text": [
      "80.38\n"
     ]
    }
   ],
   "source": [
    "trainacc=0\n",
    "\n",
    "for l in range(10):\n",
    "    if l==0:\n",
    "        q=0\n",
    "        N=0\n",
    "    elif l==1:\n",
    "        q=1000\n",
    "        N=1\n",
    "    elif l==2:\n",
    "        q=2000\n",
    "        N=2\n",
    "    elif l==3:\n",
    "        q=3000\n",
    "        N=3\n",
    "    elif l==4:\n",
    "        q=4000\n",
    "        N=4\n",
    "    elif l==5:\n",
    "        q=5000\n",
    "        N=5\n",
    "    elif l==6:\n",
    "        q=6000\n",
    "        N=6\n",
    "    elif l==7:\n",
    "        q=7000\n",
    "        N=7\n",
    "    elif l==8:\n",
    "        q=8000\n",
    "        N=8\n",
    "    elif l==9:\n",
    "        q=9000\n",
    "        N=9   \n",
    "    \n",
    " \n",
    "    accu1=0\n",
    "    k=0\n",
    "    d0=0\n",
    "    d1=0\n",
    "    d2=0\n",
    "    d3=0\n",
    "    d4=0\n",
    "    d5=0\n",
    "    d6=0\n",
    "    d7=0\n",
    "    d8=0\n",
    "    d9=0\n",
    "\n",
    "\n",
    "    for k in range (1000):\n",
    "\n",
    "        findclass=train[:,k+q:k+1+q]\n",
    "    \n",
    "        sumx_0=np.reshape(sumx_0,(784,1))\n",
    "        sumx_1=np.reshape(sumx_1,(784,1))\n",
    "        sumx_2=np.reshape(sumx_2,(784,1))\n",
    "        sumx_3=np.reshape(sumx_3,(784,1))\n",
    "        sumx_4=np.reshape(sumx_4,(784,1))\n",
    "        sumx_5=np.reshape(sumx_5,(784,1))\n",
    "        sumx_6=np.reshape(sumx_6,(784,1))\n",
    "        sumx_7=np.reshape(sumx_7,(784,1))\n",
    "        sumx_8=np.reshape(sumx_8,(784,1))\n",
    "        sumx_9=np.reshape(sumx_9,(784,1))\n",
    "\n",
    "        d0=calcdist(findclass,sumx_0)\n",
    "        d1=calcdist(findclass,sumx_1)\n",
    "        d2=calcdist(findclass,sumx_2)\n",
    "        d3=calcdist(findclass,sumx_3)\n",
    "        d4=calcdist(findclass,sumx_4)\n",
    "        d5=calcdist(findclass,sumx_5)\n",
    "        d6=calcdist(findclass,sumx_6)\n",
    "        d7=calcdist(findclass,sumx_7)\n",
    "        d8=calcdist(findclass,sumx_8)\n",
    "        d9=calcdist(findclass,sumx_9)\n",
    "\n",
    "        d=(d0,d1,d2,d3,d4,d5,d6,d7,d8,d9)\n",
    "        X = d.index(min(d))\n",
    "  \n",
    "    \n",
    "        if X==N:\n",
    "            accu1=accu1+1\n",
    "\n",
    "    trainacc=trainacc+accu1\n",
    "    \n",
    "\n",
    "    \n",
    "print(trainacc/100)"
   ]
  },
  {
   "cell_type": "code",
   "execution_count": null,
   "metadata": {},
   "outputs": [],
   "source": []
  },
  {
   "cell_type": "code",
   "execution_count": null,
   "metadata": {},
   "outputs": [],
   "source": []
  }
 ],
 "metadata": {
  "anaconda-cloud": {},
  "kernelspec": {
   "display_name": "Python 3",
   "language": "python",
   "name": "python3"
  },
  "language_info": {
   "codemirror_mode": {
    "name": "ipython",
    "version": 3
   },
   "file_extension": ".py",
   "mimetype": "text/x-python",
   "name": "python",
   "nbconvert_exporter": "python",
   "pygments_lexer": "ipython3",
   "version": "3.6.5"
  }
 },
 "nbformat": 4,
 "nbformat_minor": 1
}
